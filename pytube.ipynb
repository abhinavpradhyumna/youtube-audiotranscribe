{
 "cells": [
  {
   "cell_type": "code",
   "execution_count": null,
   "id": "3ad926c0",
   "metadata": {},
   "outputs": [],
   "source": [
    "import os\n",
    "import whisper\n",
    "from pytube import YouTube\n",
    "from moviepy.editor import AudioFileClip\n",
    "\n",
    "def download_audio(youtube_url, output_path=\"downloads\"):\n",
    "    yt = YouTube(youtube_url)\n",
    "    stream = yt.streams.filter(only_audio=True).first()\n",
    "    \n",
    "    if not os.path.exists(output_path):\n",
    "        os.makedirs(output_path)\n",
    "    \n",
    "    file_path = stream.download(output_path)\n",
    "    \n",
    "    new_file_path = os.path.join(output_path, \"audio.mp3\")\n",
    "    audio_clip = AudioFileClip(file_path)\n",
    "    audio_clip.write_audiofile(new_file_path)\n",
    "    audio_clip.close()\n",
    "    os.remove(file_path)  \n",
    "    \n",
    "    return new_file_path\n",
    "\n",
    "def transcribe_audio(audio_path):\n",
    "    model = whisper.load_model(\"base\")  \n",
    "    result = model.transcribe(audio_path)\n",
    "    return result[\"text\"]\n",
    "\n",
    "url = input(\"Enter YouTube URL: \")\n",
    "audio_file = download_audio(url)\n",
    "transcript = transcribe_audio(audio_file)\n",
    "    \n",
    "with open(\"transcript.txt\", \"w\", encoding=\"utf-8\") as f:\n",
    "    f.write(transcript)\n",
    "    \n",
    "print(\"Transcription saved as transcript.txt\")\n",
    "\n"
   ]
  },
  {
   "cell_type": "code",
   "execution_count": null,
   "id": "ada9763d",
   "metadata": {},
   "outputs": [],
   "source": []
  }
 ],
 "metadata": {
  "kernelspec": {
   "display_name": "Python 3 (ipykernel)",
   "language": "python",
   "name": "python3"
  },
  "language_info": {
   "codemirror_mode": {
    "name": "ipython",
    "version": 3
   },
   "file_extension": ".py",
   "mimetype": "text/x-python",
   "name": "python",
   "nbconvert_exporter": "python",
   "pygments_lexer": "ipython3",
   "version": "3.10.9"
  }
 },
 "nbformat": 4,
 "nbformat_minor": 5
}
